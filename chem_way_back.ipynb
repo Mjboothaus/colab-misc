{
  "nbformat": 4,
  "nbformat_minor": 0,
  "metadata": {
    "colab": {
      "name": "chem-way-back.ipynb",
      "private_outputs": true,
      "provenance": [],
      "collapsed_sections": [],
      "authorship_tag": "ABX9TyOBI4D4lU7dY60VOGD11nuN",
      "include_colab_link": true
    },
    "kernelspec": {
      "name": "python3",
      "display_name": "Python 3"
    },
    "language_info": {
      "name": "python"
    }
  },
  "cells": [
    {
      "cell_type": "markdown",
      "metadata": {
        "id": "view-in-github",
        "colab_type": "text"
      },
      "source": [
        "<a href=\"https://colab.research.google.com/github/Mjboothaus/colab-misc/blob/main/chem_way_back.ipynb\" target=\"_parent\"><img src=\"https://colab.research.google.com/assets/colab-badge.svg\" alt=\"Open In Colab\"/></a>"
      ]
    },
    {
      "cell_type": "code",
      "execution_count": null,
      "metadata": {
        "id": "dNwbK3sNcoPb"
      },
      "outputs": [],
      "source": [
        "!git clone https://github.com/xnl-h4ck3r/waymore.git"
      ]
    },
    {
      "cell_type": "code",
      "source": [
        "!cd waymore && python setup.py install"
      ],
      "metadata": {
        "id": "8ut8COWldC1u"
      },
      "execution_count": null,
      "outputs": []
    },
    {
      "cell_type": "code",
      "source": [
        "import waymore"
      ],
      "metadata": {
        "id": "INZ1dZBPdLb8"
      },
      "execution_count": null,
      "outputs": []
    },
    {
      "cell_type": "code",
      "source": [
        "!cd waymore && python waymore.py -i www.chem.usyd.edu.au -mode U"
      ],
      "metadata": {
        "id": "EP3SKVQwfaYA"
      },
      "execution_count": null,
      "outputs": []
    },
    {
      "cell_type": "code",
      "source": [
        "!cat waymore/results/www.chem.usyd.edu.au/waymore.txt | grep booth"
      ],
      "metadata": {
        "id": "daaCpTIwhk-B"
      },
      "execution_count": null,
      "outputs": []
    },
    {
      "cell_type": "code",
      "source": [
        ""
      ],
      "metadata": {
        "id": "b4fOJ6qHk9SE"
      },
      "execution_count": null,
      "outputs": []
    }
  ]
}